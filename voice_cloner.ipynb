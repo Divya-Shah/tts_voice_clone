{
 "cells": [
  {
   "cell_type": "code",
   "execution_count": 2,
   "metadata": {},
   "outputs": [
    {
     "name": "stdout",
     "output_type": "stream",
     "text": [
      " > tts_models/multilingual/multi-dataset/xtts_v2 is already downloaded.\n",
      " > Using model: xtts\n",
      " > Text splitted to sentences.\n",
      "['Good morning family, friends, faculty, and fellow graduates.', 'Well, we did it.', 'We all accomplished one of the major early milestones of our lives: high school graduation.', 'This is a major step in the journey of our lives, one that shouldbe recognized for its immense significance.', 'It is an act not only of personal commitment, but also one of pride.', 'We all worked hard to get to this day, and our work did not go to waste.', 'A highschool diploma is a wonderful tool in this world, one that opens many doors of opportunity for anyone who is lucky enough to have one.']\n",
      " > Processing time: 325.68029522895813\n",
      " > Real-time factor: 7.903156430814882\n"
     ]
    },
    {
     "data": {
      "text/plain": [
       "'D:\\\\Projects\\\\tts_voice_clone\\\\output_audios\\\\kangana_ranaut1_output.wav'"
      ]
     },
     "execution_count": 2,
     "metadata": {},
     "output_type": "execute_result"
    }
   ],
   "source": [
    "from TTS.api import TTS\n",
    "tts = TTS(\"tts_models/multilingual/multi-dataset/xtts_v2\", gpu=False)\n",
    "file_name = \"kangana_ranaut\"\n",
    "speach_text = \"\"\"Good morning family, friends, faculty, and fellow graduates.\n",
    "\n",
    "                Well, we did it. We all accomplished one of the major early milestones of our lives: high school graduation. \n",
    "                This is a major step in the journey of our lives, one that shouldbe recognized for its immense significance. \n",
    "                It is an act not only of personal commitment, but also one of pride. \n",
    "                We all worked hard to get to this day, and our work did not go to waste. \n",
    "                A highschool diploma is a wonderful tool in this world, one that opens many doors of opportunity for anyone who is lucky enough to have one.\"\"\"\n",
    "# generate speech by cloning a voice using default settings\n",
    "tts.tts_to_file(text=speach_text,\n",
    "                file_path=fr\"D:\\Projects\\tts_voice_clone\\output_audios\\{file_name}_output.wav\",\n",
    "                speaker_wav=[fr\"D:\\Projects\\tts_voice_clone\\reference_audios\\{file_name}.wav\"],\n",
    "                language=\"en\",\n",
    "                split_sentences=True\n",
    "                )"
   ]
  },
  {
   "cell_type": "code",
   "execution_count": null,
   "metadata": {},
   "outputs": [],
   "source": []
  }
 ],
 "metadata": {
  "kernelspec": {
   "display_name": "ENV",
   "language": "python",
   "name": "python3"
  },
  "language_info": {
   "codemirror_mode": {
    "name": "ipython",
    "version": 3
   },
   "file_extension": ".py",
   "mimetype": "text/x-python",
   "name": "python",
   "nbconvert_exporter": "python",
   "pygments_lexer": "ipython3",
   "version": "3.10.10"
  }
 },
 "nbformat": 4,
 "nbformat_minor": 2
}
